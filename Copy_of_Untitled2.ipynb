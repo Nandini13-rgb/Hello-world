{
  "nbformat": 4,
  "nbformat_minor": 0,
  "metadata": {
    "colab": {
      "name": "Copy of Untitled2.ipynb",
      "provenance": [],
      "collapsed_sections": [],
      "authorship_tag": "ABX9TyPdrWaCgbv0iZBsES8CpMcC",
      "include_colab_link": true
    },
    "kernelspec": {
      "name": "python3",
      "display_name": "Python 3"
    },
    "language_info": {
      "name": "python"
    }
  },
  "cells": [
    {
      "cell_type": "markdown",
      "metadata": {
        "id": "view-in-github",
        "colab_type": "text"
      },
      "source": [
        "<a href=\"https://colab.research.google.com/github/Nandini13-rgb/Hello-world/blob/master/Copy_of_Untitled2.ipynb\" target=\"_parent\"><img src=\"https://colab.research.google.com/assets/colab-badge.svg\" alt=\"Open In Colab\"/></a>"
      ]
    },
    {
      "cell_type": "code",
      "metadata": {
        "colab": {
          "base_uri": "https://localhost:8080/"
        },
        "id": "3KvyepAODSh3",
        "outputId": "361dbe10-f057-48d2-df58-a8d958dccc79"
      },
      "source": [
        "import numpy as np\n",
        "x = np.array([1,2,3,4,5])\n",
        "print(x)\n",
        "print(x.shape)\n",
        "print(type(x))\n",
        "\n",
        "y = np.array([[1,2,3,4],[12,3,5,6]])\n",
        "print('\\n', y)\n",
        "print(y.shape)\n",
        "print(y.size)\n",
        "print(y.dtype)\n",
        "\n",
        "z = np.array([[1.2,1.2,1.3], [5.4,3.4,2.6]], dtype = np.int64)\n",
        "print(z)\n",
        "\n",
        "t = np.zeros((3,4))\n",
        "print()\n",
        "print(t)\n",
        "print()\n",
        "\n",
        "T = np.zeros((3,4), dtype = np.int64)\n",
        "print(T)\n",
        "\n",
        "P = np.ones((3,4))\n",
        "print()\n",
        "print(P)\n",
        "\n",
        "R = np.full((3,4), 5)\n",
        "print()\n",
        "print(R)\n",
        "\n",
        "I = np.eye(3)\n",
        "print()\n",
        "print(I)\n",
        "\n",
        "E = np.diag([1,2,3,4,5])\n",
        "print()\n",
        "print(D)\n",
        "\n",
        "A = np.arange(10)\n",
        "print()\n",
        "print(A)\n",
        "\n",
        "B = np.arange(2,12)\n",
        "print()\n",
        "print(B)\n",
        "\n",
        "C = np.arange(1,14,2)\n",
        "print()\n",
        "print(C)\n",
        "\n",
        "D = np.linspace(0,25,10)\n",
        "print()\n",
        "print(D)\n",
        "\n",
        "F = np.linspace(0,25,10, endpoint = False)\n",
        "print()\n",
        "print(F)\n",
        "\n"
      ],
      "execution_count": null,
      "outputs": [
        {
          "output_type": "stream",
          "text": [
            "[1 2 3 4 5]\n",
            "(5,)\n",
            "<class 'numpy.ndarray'>\n",
            "\n",
            " [[ 1  2  3  4]\n",
            " [12  3  5  6]]\n",
            "(2, 4)\n",
            "8\n",
            "int64\n",
            "[[1 1 1]\n",
            " [5 3 2]]\n",
            "\n",
            "[[0. 0. 0. 0.]\n",
            " [0. 0. 0. 0.]\n",
            " [0. 0. 0. 0.]]\n",
            "\n",
            "[[0 0 0 0]\n",
            " [0 0 0 0]\n",
            " [0 0 0 0]]\n",
            "\n",
            "[[1. 1. 1. 1.]\n",
            " [1. 1. 1. 1.]\n",
            " [1. 1. 1. 1.]]\n",
            "\n",
            "[[5 5 5 5]\n",
            " [5 5 5 5]\n",
            " [5 5 5 5]]\n",
            "\n",
            "[[1. 0. 0.]\n",
            " [0. 1. 0.]\n",
            " [0. 0. 1.]]\n",
            "\n",
            "[ 0.          2.77777778  5.55555556  8.33333333 11.11111111 13.88888889\n",
            " 16.66666667 19.44444444 22.22222222 25.        ]\n",
            "\n",
            "[0 1 2 3 4 5 6 7 8 9]\n",
            "\n",
            "[ 2  3  4  5  6  7  8  9 10 11]\n",
            "\n",
            "[ 1  3  5  7  9 11 13]\n",
            "\n",
            "[ 0.          2.77777778  5.55555556  8.33333333 11.11111111 13.88888889\n",
            " 16.66666667 19.44444444 22.22222222 25.        ]\n",
            "\n",
            "[ 0.   2.5  5.   7.5 10.  12.5 15.  17.5 20.  22.5]\n"
          ],
          "name": "stdout"
        }
      ]
    },
    {
      "cell_type": "markdown",
      "metadata": {
        "id": "GfsvpAH20NC5"
      },
      "source": [
        "Reshape"
      ]
    },
    {
      "cell_type": "code",
      "metadata": {
        "colab": {
          "base_uri": "https://localhost:8080/"
        },
        "id": "iAH8UKGS0PqM",
        "outputId": "d51dd828-dd06-424c-e9c4-98e7b741dbc3"
      },
      "source": [
        "import numpy as np\n",
        "x = np.arange(20)\n",
        "\n",
        "print(x)\n",
        "\n",
        "x = np.reshape(x,(4,5))\n",
        "print()\n",
        "print(x)\n",
        "\n",
        "x = np.arange(20).reshape(4,5)\n",
        "print()\n",
        "print(x)\n",
        "\n",
        "x = np.linspace(0,50,10, endpoint=False).reshape(5,2)\n",
        "print()\n",
        "print(x)\n",
        "\n",
        "x = np.random.random((3,3))\n",
        "print()\n",
        "print(x)\n",
        "\n",
        "x = np.random.randint(4,16 , size = (3,3))\n",
        "print()\n",
        "print(x)\n",
        "\n",
        "x = np.array([1,2,3,4])\n",
        "print()\n",
        "print(x[1])\n",
        "\n",
        "x = np.random.randint(4,16 , size = (3,3))\n",
        "print()\n",
        "print(x)\n",
        "print()\n",
        "print(x[0,0])\n",
        "print(x[2][2])\n"
      ],
      "execution_count": null,
      "outputs": [
        {
          "output_type": "stream",
          "text": [
            "[ 0  1  2  3  4  5  6  7  8  9 10 11 12 13 14 15 16 17 18 19]\n",
            "\n",
            "[[ 0  1  2  3  4]\n",
            " [ 5  6  7  8  9]\n",
            " [10 11 12 13 14]\n",
            " [15 16 17 18 19]]\n",
            "\n",
            "[[ 0  1  2  3  4]\n",
            " [ 5  6  7  8  9]\n",
            " [10 11 12 13 14]\n",
            " [15 16 17 18 19]]\n",
            "\n",
            "[[ 0.  5.]\n",
            " [10. 15.]\n",
            " [20. 25.]\n",
            " [30. 35.]\n",
            " [40. 45.]]\n",
            "\n",
            "[[0.07747232 0.72946621 0.656619  ]\n",
            " [0.93185414 0.77196383 0.41125541]\n",
            " [0.92011024 0.73297427 0.79338598]]\n",
            "\n",
            "[[14  4  6]\n",
            " [11 10  4]\n",
            " [ 4 11  7]]\n",
            "\n",
            "2\n",
            "\n",
            "[[15 13  4]\n",
            " [15  5 11]\n",
            " [ 5  8 15]]\n",
            "\n",
            "15\n",
            "15\n"
          ],
          "name": "stdout"
        }
      ]
    },
    {
      "cell_type": "markdown",
      "metadata": {
        "id": "KNu4azNAbTNN"
      },
      "source": [
        "Deletion"
      ]
    },
    {
      "cell_type": "code",
      "metadata": {
        "id": "sr9_mjyKYjnu",
        "colab": {
          "base_uri": "https://localhost:8080/"
        },
        "outputId": "98084909-faab-4fa9-abc6-061b8124b88e"
      },
      "source": [
        "import numpy as np \n",
        "x = np.array([1,2,3,4])\n",
        "print(x)\n",
        "print()\n",
        "x = np.delete(x, [0,3])\n",
        "print(x)\n",
        "print()\n",
        "\n",
        "y = np.array([[1,2],[4,5]])\n",
        "print(y)\n",
        "print()\n",
        "\n",
        "v = np.delete(y,0,axis = 0) # row \n",
        "print(v)\n",
        "print()\n",
        "\n",
        "u = np.delete(y,1,axis = 0)\n",
        "print(u)\n",
        "print()\n",
        "\n",
        "w = np.delete(y,0,axis=1) #column\n",
        "print(w)\n",
        "print()\n",
        "\n",
        "m = np.delete(y,1,axis=1)\n",
        "print(m)\n",
        "print()"
      ],
      "execution_count": null,
      "outputs": [
        {
          "output_type": "stream",
          "text": [
            "[1 2 3 4]\n",
            "\n",
            "[2 3]\n",
            "\n",
            "[[1 2]\n",
            " [4 5]]\n",
            "\n",
            "[[4 5]]\n",
            "\n",
            "[[1 2]]\n",
            "\n",
            "[[2]\n",
            " [5]]\n",
            "\n",
            "[[1]\n",
            " [4]]\n",
            "\n"
          ],
          "name": "stdout"
        }
      ]
    },
    {
      "cell_type": "markdown",
      "metadata": {
        "id": "R1j7JRyhcg3w"
      },
      "source": [
        "Append"
      ]
    },
    {
      "cell_type": "code",
      "metadata": {
        "id": "IavXA8S1bfWW",
        "colab": {
          "base_uri": "https://localhost:8080/"
        },
        "outputId": "37a2c131-9aa0-4b97-fbfd-400b550926b0"
      },
      "source": [
        "import numpy as np\n",
        "x = np.array([1,2,3,4,5])\n",
        "y = np.array([[1,2,3],[4,5,6]])\n",
        "print(x)\n",
        "print()\n",
        "x = np.append(x,6)\n",
        "print(x)\n",
        "print()\n",
        "\n",
        "x = np.append(x,[7,8])\n",
        "print(x)\n",
        "print()\n",
        "\n",
        "print(y)\n",
        "print()\n",
        "\n",
        "v = np.append(y,[[7,8,9],[10,11,12]],axis = 0)\n",
        "print(v)\n",
        "print()\n",
        "\n",
        "u = np.append(y,[[4],[7]],axis =1)\n",
        "print(u)\n",
        "print()\n"
      ],
      "execution_count": null,
      "outputs": [
        {
          "output_type": "stream",
          "text": [
            "[1 2 3 4 5]\n",
            "\n",
            "[1 2 3 4 5 6]\n",
            "\n",
            "[1 2 3 4 5 6 7 8]\n",
            "\n",
            "[[1 2 3]\n",
            " [4 5 6]]\n",
            "\n",
            "[[ 1  2  3]\n",
            " [ 4  5  6]\n",
            " [ 7  8  9]\n",
            " [10 11 12]]\n",
            "\n",
            "[[1 2 3 4]\n",
            " [4 5 6 7]]\n",
            "\n"
          ],
          "name": "stdout"
        }
      ]
    },
    {
      "cell_type": "markdown",
      "metadata": {
        "id": "q6-FVEbVeyvJ"
      },
      "source": [
        "Slicing"
      ]
    },
    {
      "cell_type": "code",
      "metadata": {
        "id": "6HPK6Drke4rF",
        "colab": {
          "base_uri": "https://localhost:8080/"
        },
        "outputId": "ee091ffb-56e9-4786-d7b9-ef01c95ece65"
      },
      "source": [
        "import numpy as np\n",
        "x = np.arange(20).reshape(4,5)\n",
        "print(x)\n",
        "print()\n",
        "\n",
        "#second to fourth row and second to fourth column\n",
        "z = x[1:4,2:5]\n",
        "print(z)\n",
        "print()\n",
        "\n",
        "z = x[0:,2:5]\n",
        "print(z)\n",
        "print()\n",
        "\n",
        "z = x[0:,0:]\n",
        "print(z)\n",
        "print()\n",
        "\n",
        "z = x[:,2]\n",
        "print(z)\n",
        "print()\n",
        "\n",
        "z = x[:,2:3]\n",
        "print(z)\n",
        "print()\n",
        "\n",
        "z = x[2,:]\n",
        "print(z)\n",
        "print()\n"
      ],
      "execution_count": null,
      "outputs": [
        {
          "output_type": "stream",
          "text": [
            "[[ 0  1  2  3  4]\n",
            " [ 5  6  7  8  9]\n",
            " [10 11 12 13 14]\n",
            " [15 16 17 18 19]]\n",
            "\n",
            "[[ 7  8  9]\n",
            " [12 13 14]\n",
            " [17 18 19]]\n",
            "\n",
            "[[ 2  3  4]\n",
            " [ 7  8  9]\n",
            " [12 13 14]\n",
            " [17 18 19]]\n",
            "\n",
            "[[ 0  1  2  3  4]\n",
            " [ 5  6  7  8  9]\n",
            " [10 11 12 13 14]\n",
            " [15 16 17 18 19]]\n",
            "\n",
            "[ 2  7 12 17]\n",
            "\n",
            "[[ 2]\n",
            " [ 7]\n",
            " [12]\n",
            " [17]]\n",
            "\n",
            "[10 11 12 13 14]\n",
            "\n"
          ],
          "name": "stdout"
        }
      ]
    },
    {
      "cell_type": "markdown",
      "metadata": {
        "id": "Pn6mGAReYNAu"
      },
      "source": [
        "Arithmetic Operation"
      ]
    },
    {
      "cell_type": "code",
      "metadata": {
        "colab": {
          "base_uri": "https://localhost:8080/"
        },
        "id": "fYLR--dFYRph",
        "outputId": "c52ab346-09ad-4efb-8701-3a7c3c927cdf"
      },
      "source": [
        "import numpy as np\n",
        "x = [1,2,3,4,5]\n",
        "print(x)\n",
        "print()\n",
        "y = np.arange(5)\n",
        "print(y)\n",
        "print()\n",
        "\n",
        "z = np.add(x,y)\n",
        "print(z)\n",
        "print()\n",
        "\n",
        "print(x+y)\n",
        "print()\n",
        "\n",
        "X = np.arange(4).reshape(2,2)\n",
        "Y = np.arange(4).reshape(2,2)\n",
        "print(X)\n",
        "print()\n",
        "print(Y)\n",
        "print()\n",
        "\n",
        "Z = np.add(X,Y)\n",
        "print(Z)\n",
        "print()\n",
        "\n",
        "print(X+Y)\n",
        "print()\n",
        "\n",
        "print(np.multiply(X,Y))\n",
        "print()\n",
        "\n",
        "print(np.divide(X,Y))\n",
        "print()\n",
        "\n",
        "print(X+3)\n",
        "print()\n",
        "\n",
        "print(x)\n",
        "print()\n",
        "\n",
        "print(np.exp(x))\n",
        "print()\n",
        "\n",
        "print(np.sqrt(x))\n",
        "print()\n",
        "\n",
        "print(np.power(x,3))\n",
        "print()"
      ],
      "execution_count": null,
      "outputs": [
        {
          "output_type": "stream",
          "text": [
            "[1, 2, 3, 4, 5]\n",
            "\n",
            "[0 1 2 3 4]\n",
            "\n",
            "[1 3 5 7 9]\n",
            "\n",
            "[1 3 5 7 9]\n",
            "\n",
            "[[0 1]\n",
            " [2 3]]\n",
            "\n",
            "[[0 1]\n",
            " [2 3]]\n",
            "\n",
            "[[0 2]\n",
            " [4 6]]\n",
            "\n",
            "[[0 2]\n",
            " [4 6]]\n",
            "\n",
            "[[0 1]\n",
            " [4 9]]\n",
            "\n",
            "[[nan  1.]\n",
            " [ 1.  1.]]\n",
            "\n",
            "[[3 4]\n",
            " [5 6]]\n",
            "\n",
            "[1, 2, 3, 4, 5]\n",
            "\n",
            "[  2.71828183   7.3890561   20.08553692  54.59815003 148.4131591 ]\n",
            "\n",
            "[1.         1.41421356 1.73205081 2.         2.23606798]\n",
            "\n",
            "[  1   8  27  64 125]\n",
            "\n"
          ],
          "name": "stdout"
        },
        {
          "output_type": "stream",
          "text": [
            "/usr/local/lib/python3.7/dist-packages/ipykernel_launcher.py:33: RuntimeWarning: invalid value encountered in true_divide\n"
          ],
          "name": "stderr"
        }
      ]
    },
    {
      "cell_type": "markdown",
      "metadata": {
        "id": "TMLfCkvccQ3S"
      },
      "source": [
        "Boolean Indexing"
      ]
    },
    {
      "cell_type": "code",
      "metadata": {
        "colab": {
          "base_uri": "https://localhost:8080/"
        },
        "id": "LDcH0S64cgmN",
        "outputId": "8ae2ba24-6a41-445c-a161-ae4aa2acdb3f"
      },
      "source": [
        "import numpy as np\n",
        "x = np.arange(25).reshape(5,5)\n",
        "print(x)\n",
        "print()\n",
        "#larger than 10\n",
        "y = x[x>10]\n",
        "print(y)\n",
        "\n",
        "#smaller than 10\n",
        "y = x[x<10]\n",
        "print(y)\n",
        "\n",
        "#inequality\n",
        "y = x[x<=10]\n",
        "print(y)\n",
        "\n",
        "#between 10 & 17\n",
        "y = x[(x<17) & (x>10)]\n",
        "print(y)\n",
        "\n",
        "# We use Boolean indexing to assign the elements that are between 10 and 17 the value of -1\n",
        "x[(x > 10) & (x < 17)] = -1\n",
        "print(x)\n",
        "\n"
      ],
      "execution_count": null,
      "outputs": [
        {
          "output_type": "stream",
          "text": [
            "[[ 0  1  2  3  4]\n",
            " [ 5  6  7  8  9]\n",
            " [10 11 12 13 14]\n",
            " [15 16 17 18 19]\n",
            " [20 21 22 23 24]]\n",
            "\n",
            "[11 12 13 14 15 16 17 18 19 20 21 22 23 24]\n",
            "[0 1 2 3 4 5 6 7 8 9]\n",
            "[ 0  1  2  3  4  5  6  7  8  9 10]\n",
            "[11 12 13 14 15 16]\n",
            "[[ 0  1  2  3  4]\n",
            " [ 5  6  7  8  9]\n",
            " [10 -1 -1 -1 -1]\n",
            " [-1 -1 17 18 19]\n",
            " [20 21 22 23 24]]\n"
          ],
          "name": "stdout"
        }
      ]
    },
    {
      "cell_type": "markdown",
      "metadata": {
        "id": "jdPHxBSmfthH"
      },
      "source": [
        "Sorting"
      ]
    },
    {
      "cell_type": "code",
      "metadata": {
        "colab": {
          "base_uri": "https://localhost:8080/"
        },
        "id": "vgK82jUvfvIR",
        "outputId": "e3fc50a7-aa0a-4ab2-f980-7bf49c1f6fb9"
      },
      "source": [
        "import numpy as np\n",
        "x = np.random.randint(1,11, size = 10)\n",
        "print(x)\n",
        "\n",
        "print(np.unique(x))\n",
        "\n",
        "print(np.sort(x))\n",
        "\n",
        "x.sort()\n",
        "print(x)\n",
        "\n",
        "# We create an unsorted rank 2 ndarray\n",
        "X = np.random.randint(1,11,size=(5,5))\n",
        "\n",
        "# We print X\n",
        "print()\n",
        "print('Original X = \\n', X)\n",
        "print()\n",
        "\n",
        "# We sort the columns of X and print the sorted array\n",
        "print()\n",
        "print('X with sorted columns :\\n', np.sort(X, axis = 0))\n",
        "\n",
        "# We sort the rows of X and print the sorted array\n",
        "print()\n",
        "print('X with sorted rows :\\n', np.sort(X, axis = 1))"
      ],
      "execution_count": 5,
      "outputs": [
        {
          "output_type": "stream",
          "text": [
            "[ 7  3  6  9  6  4  2 10  7  5]\n",
            "[ 2  3  4  5  6  7  9 10]\n",
            "[ 2  3  4  5  6  6  7  7  9 10]\n",
            "[ 2  3  4  5  6  6  7  7  9 10]\n"
          ],
          "name": "stdout"
        }
      ]
    }
  ]
}